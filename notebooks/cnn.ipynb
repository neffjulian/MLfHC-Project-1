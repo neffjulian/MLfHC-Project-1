{
 "cells": [
  {
   "cell_type": "code",
   "execution_count": 3,
   "metadata": {},
   "outputs": [],
   "source": [
    "import os\n",
    "import sys\n",
    "module_path = os.path.abspath(os.path.join('..'))\n",
    "if module_path not in sys.path:\n",
    "    sys.path.append(module_path)\n",
    "\n",
    "from sklearn.model_selection import train_test_split\n",
    "\n",
    "import pandas as pd\n",
    "from pytorch_lightning import Trainer, seed_everything\n",
    "\n",
    "from src.dataset import MITDataModule\n",
    "from src.model import CNNModel"
   ]
  },
  {
   "cell_type": "code",
   "execution_count": 4,
   "metadata": {},
   "outputs": [],
   "source": [
    "df_ptbdb_normal= pd.read_csv(\"../data/ptbdb_normal.csv\", header=None)\n",
    "df_ptbdb_abnormal = pd.read_csv(\"../data/ptbdb_abnormal.csv\", header=None)\n",
    "df = pd.concat([df_ptbdb_normal, df_ptbdb_abnormal])\n",
    "\n",
    "df_train, df_test = train_test_split(df, test_size=0.2, random_state=1337, stratify=df[187])\n",
    "df_train, df_test = df_train.reset_index(drop=True), df_test.reset_index(drop=True)"
   ]
  },
  {
   "cell_type": "code",
   "execution_count": 5,
   "metadata": {},
   "outputs": [
    {
     "name": "stderr",
     "output_type": "stream",
     "text": [
      "Global seed set to 1234\n",
      "/home/julian/miniconda3/envs/ml4h/lib/python3.9/site-packages/torchmetrics/utilities/prints.py:36: UserWarning: Metric `AUROC` will save all targets and predictions in buffer. For large datasets this may lead to large memory footprint.\n",
      "  warnings.warn(*args, **kwargs)\n",
      "/home/julian/miniconda3/envs/ml4h/lib/python3.9/site-packages/torchmetrics/utilities/prints.py:36: UserWarning: Metric `PrecisionRecallCurve` will save all targets and predictions in buffer. For large datasets this may lead to large memory footprint.\n",
      "  warnings.warn(*args, **kwargs)\n",
      "/home/julian/miniconda3/envs/ml4h/lib/python3.9/site-packages/torchmetrics/utilities/prints.py:36: UserWarning: Metric `AUC` will save all targets and predictions in buffer. For large datasets this may lead to large memory footprint.\n",
      "  warnings.warn(*args, **kwargs)\n",
      "GPU available: False, used: False\n",
      "TPU available: False, using: 0 TPU cores\n",
      "IPU available: False, using: 0 IPUs\n",
      "\n",
      "   | Name      | Type                 | Params\n",
      "----------------------------------------------------\n",
      "0  | c1        | Conv1d               | 48    \n",
      "1  | c2        | Conv1d               | 656   \n",
      "2  | c3        | Conv1d               | 2.6 K \n",
      "3  | fc1       | Linear               | 113 K \n",
      "4  | fc2       | Linear               | 12.0 K\n",
      "5  | fc3       | Linear               | 65    \n",
      "6  | maxP      | MaxPool1d            | 0     \n",
      "7  | dropout   | Dropout              | 0     \n",
      "8  | flatten   | Flatten              | 0     \n",
      "9  | flatten0  | Flatten              | 0     \n",
      "10 | test_acc  | Accuracy             | 0     \n",
      "11 | train_acc | Accuracy             | 0     \n",
      "12 | valid_acc | Accuracy             | 0     \n",
      "13 | test_f1   | F1Score              | 0     \n",
      "14 | train_f1  | F1Score              | 0     \n",
      "15 | valid_f1  | F1Score              | 0     \n",
      "16 | test_ROC  | AUROC                | 0     \n",
      "17 | test_PRC  | PrecisionRecallCurve | 0     \n",
      "18 | test_AUC  | AUC                  | 0     \n",
      "----------------------------------------------------\n",
      "129 K     Trainable params\n",
      "0         Non-trainable params\n",
      "129 K     Total params\n",
      "0.517     Total estimated model params size (MB)\n"
     ]
    },
    {
     "name": "stdout",
     "output_type": "stream",
     "text": [
      "                                                              "
     ]
    },
    {
     "name": "stderr",
     "output_type": "stream",
     "text": [
      "Global seed set to 1234\n"
     ]
    },
    {
     "name": "stdout",
     "output_type": "stream",
     "text": [
      "Epoch 24: 100%|██████████| 364/364 [00:06<00:00, 54.01it/s, loss=0.121, v_num=49] \n",
      "Validating:  93%|█████████▎| 68/73 [00:00<00:00, 94.33it/s] --------------------------------------------------------------------------------\n",
      "DATALOADER:0 VALIDATE RESULTS\n",
      "{'val_acc': 0.956204354763031,\n",
      " 'val_acc_epoch': 0.956204354763031,\n",
      " 'valid_loss': 0.12016948312520981}\n",
      "--------------------------------------------------------------------------------\n",
      "Validating: 100%|██████████| 73/73 [00:00<00:00, 88.17it/s]\n",
      "Testing:  98%|█████████▊| 89/91 [00:01<00:00, 67.12it/s]--------------------------------------------------------------------------------\n",
      "DATALOADER:0 TEST RESULTS\n",
      "{'test prc': 0.9924414753913879,\n",
      " 'test roc': 0.9830175638198853,\n",
      " 'test_acc': 0.952937126159668,\n",
      " 'test_f1': 0.9673993587493896,\n",
      " 'test_loss': 0.1730928272008896}\n",
      "--------------------------------------------------------------------------------\n",
      "Testing: 100%|██████████| 91/91 [00:01<00:00, 62.41it/s]\n"
     ]
    },
    {
     "data": {
      "text/plain": [
       "[{'test_loss': 0.1730928272008896,\n",
       "  'test_f1': 0.9673993587493896,\n",
       "  'test_acc': 0.952937126159668,\n",
       "  'test roc': 0.9830175638198853,\n",
       "  'test prc': 0.9924414753913879}]"
      ]
     },
     "execution_count": 5,
     "metadata": {},
     "output_type": "execute_result"
    }
   ],
   "source": [
    "seed_everything(1234)\n",
    "\n",
    "model = CNNModel(nr_classes=1) # 1: Binary, 5: Non-Binary task\n",
    "trainer = Trainer(max_epochs = 10)\n",
    "\n",
    "mit = MITDataModule(df_train, df_test)\n",
    "trainer.fit(model, datamodule=mit)\n",
    "\n",
    "trainer.validate(model, datamodule=mit)\n",
    "\n",
    "trainer.test(model, datamodule=mit)"
   ]
  },
  {
   "cell_type": "code",
   "execution_count": null,
   "metadata": {},
   "outputs": [],
   "source": []
  },
  {
   "cell_type": "code",
   "execution_count": null,
   "metadata": {},
   "outputs": [],
   "source": []
  }
 ],
 "metadata": {
  "interpreter": {
   "hash": "1e9f8f0b0b81bd34d7674065dba92302069c4c563a79c2d0b6b68454c07c7580"
  },
  "kernelspec": {
   "display_name": "Python 3.9.7 ('ml4h')",
   "language": "python",
   "name": "python3"
  },
  "language_info": {
   "codemirror_mode": {
    "name": "ipython",
    "version": 3
   },
   "file_extension": ".py",
   "mimetype": "text/x-python",
   "name": "python",
   "nbconvert_exporter": "python",
   "pygments_lexer": "ipython3",
   "version": "3.9.7"
  },
  "orig_nbformat": 4
 },
 "nbformat": 4,
 "nbformat_minor": 2
}
