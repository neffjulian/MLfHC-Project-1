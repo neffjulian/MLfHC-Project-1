{
 "cells": [
  {
   "cell_type": "code",
   "execution_count": 1,
   "metadata": {},
   "outputs": [],
   "source": [
    "import os\n",
    "import sys\n",
    "module_path = os.path.abspath(os.path.join('..'))\n",
    "if module_path not in sys.path:\n",
    "    sys.path.append(module_path)\n",
    "\n",
    "from sklearn.model_selection import train_test_split\n",
    "\n",
    "import pandas as pd\n",
    "from pytorch_lightning import Trainer, seed_everything\n",
    "\n",
    "from src.dataset import MITDataModule\n",
    "from src.model import CNNModelBinary"
   ]
  },
  {
   "cell_type": "code",
   "execution_count": 2,
   "metadata": {},
   "outputs": [],
   "source": [
    "df_ptbdb_normal= pd.read_csv(\"../data/ptbdb_normal.csv\", header=None)\n",
    "df_ptbdb_abnormal = pd.read_csv(\"../data/ptbdb_abnormal.csv\", header=None)\n",
    "df = pd.concat([df_ptbdb_normal, df_ptbdb_abnormal])\n",
    "\n",
    "df_train, df_test = train_test_split(df, test_size=0.2, random_state=1337, stratify=df[187])\n",
    "df_train, df_test = df_train.reset_index(drop=True), df_test.reset_index(drop=True)"
   ]
  },
  {
   "cell_type": "code",
   "execution_count": 3,
   "metadata": {},
   "outputs": [
    {
     "name": "stderr",
     "output_type": "stream",
     "text": [
      "Global seed set to 1234\n",
      "/home/julian/miniconda3/envs/ml4h/lib/python3.9/site-packages/torchmetrics/utilities/prints.py:36: UserWarning: Metric `AUROC` will save all targets and predictions in buffer. For large datasets this may lead to large memory footprint.\n",
      "  warnings.warn(*args, **kwargs)\n",
      "/home/julian/miniconda3/envs/ml4h/lib/python3.9/site-packages/torchmetrics/utilities/prints.py:36: UserWarning: Metric `PrecisionRecallCurve` will save all targets and predictions in buffer. For large datasets this may lead to large memory footprint.\n",
      "  warnings.warn(*args, **kwargs)\n",
      "GPU available: False, used: False\n",
      "TPU available: False, using: 0 TPU cores\n",
      "IPU available: False, using: 0 IPUs\n",
      "\n",
      "   | Name      | Type                 | Params\n",
      "----------------------------------------------------\n",
      "0  | c1        | Conv1d               | 48    \n",
      "1  | c2        | Conv1d               | 656   \n",
      "2  | c3        | Conv1d               | 2.6 K \n",
      "3  | fc1       | Linear               | 39.0 K\n",
      "4  | fc2       | Linear               | 2.1 K \n",
      "5  | fc3       | Linear               | 33    \n",
      "6  | maxP      | MaxPool1d            | 0     \n",
      "7  | dropout   | Dropout              | 0     \n",
      "8  | flatten   | Flatten              | 0     \n",
      "9  | flatten0  | Flatten              | 0     \n",
      "10 | test_ROC  | AUROC                | 0     \n",
      "11 | test_PRC  | PrecisionRecallCurve | 0     \n",
      "12 | train_acc | Accuracy             | 0     \n",
      "13 | valid_acc | Accuracy             | 0     \n",
      "14 | train_f1  | F1Score              | 0     \n",
      "15 | val_f1    | F1Score              | 0     \n",
      "----------------------------------------------------\n",
      "44.4 K    Trainable params\n",
      "0         Non-trainable params\n",
      "44.4 K    Total params\n",
      "0.178     Total estimated model params size (MB)\n"
     ]
    },
    {
     "name": "stdout",
     "output_type": "stream",
     "text": [
      "                                                              "
     ]
    },
    {
     "name": "stderr",
     "output_type": "stream",
     "text": [
      "Global seed set to 1234\n"
     ]
    },
    {
     "name": "stdout",
     "output_type": "stream",
     "text": [
      "Epoch 0: 100%|██████████| 364/364 [00:08<00:00, 45.01it/s, loss=0.431, v_num=40]\n",
      "Validating:  85%|████████▍ | 62/73 [00:00<00:00, 163.90it/s]--------------------------------------------------------------------------------\n",
      "DATALOADER:0 VALIDATE RESULTS\n",
      "{'val_acc': 0.7969085574150085,\n",
      " 'val_acc_epoch': 0.7969085574150085,\n",
      " 'val_f1': 0.846378743648529,\n",
      " 'val_f1_epoch': 0.846378743648529,\n",
      " 'valid_loss': 0.43746936321258545}\n",
      "--------------------------------------------------------------------------------\n",
      "Validating: 100%|██████████| 73/73 [00:00<00:00, 151.98it/s]\n",
      "Testing: 100%|██████████| 91/91 [00:00<00:00, 236.00it/s]Test ROC:  tensor(0.8549)\n",
      "Test PRC:  (tensor([0.7221, 0.7220, 0.7219,  ..., 1.0000, 1.0000, 1.0000]), tensor([1.0000e+00, 9.9952e-01, 9.9905e-01,  ..., 9.5147e-04, 4.7574e-04,\n",
      "        0.0000e+00]), tensor([0.1110, 0.2067, 0.2178,  ..., 0.9998, 0.9998, 0.9999]))\n",
      "--------------------------------------------------------------------------------\n",
      "DATALOADER:0 TEST RESULTS\n",
      "{'test_loss': 0.4336688816547394}\n",
      "--------------------------------------------------------------------------------\n",
      "Testing: 100%|██████████| 91/91 [00:00<00:00, 211.05it/s]\n"
     ]
    },
    {
     "data": {
      "text/plain": [
       "[{'test_loss': 0.4336688816547394}]"
      ]
     },
     "execution_count": 3,
     "metadata": {},
     "output_type": "execute_result"
    }
   ],
   "source": [
    "seed_everything(1234)\n",
    "\n",
    "model = CNNModelBinary()\n",
    "trainer = Trainer(max_epochs = 15)\n",
    "\n",
    "mit = MITDataModule(df_train, df_test)\n",
    "trainer.fit(model, datamodule=mit)\n",
    "\n",
    "trainer.validate(model, datamodule=mit)\n",
    "\n",
    "trainer.test(model, datamodule=mit)"
   ]
  },
  {
   "cell_type": "code",
   "execution_count": null,
   "metadata": {},
   "outputs": [],
   "source": []
  }
 ],
 "metadata": {
  "interpreter": {
   "hash": "1e9f8f0b0b81bd34d7674065dba92302069c4c563a79c2d0b6b68454c07c7580"
  },
  "kernelspec": {
   "display_name": "Python 3.9.7 ('ml4h')",
   "language": "python",
   "name": "python3"
  },
  "language_info": {
   "codemirror_mode": {
    "name": "ipython",
    "version": 3
   },
   "file_extension": ".py",
   "mimetype": "text/x-python",
   "name": "python",
   "nbconvert_exporter": "python",
   "pygments_lexer": "ipython3",
   "version": "3.9.7"
  },
  "orig_nbformat": 4
 },
 "nbformat": 4,
 "nbformat_minor": 2
}
