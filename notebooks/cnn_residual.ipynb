{
 "cells": [
  {
   "cell_type": "code",
   "execution_count": 1,
   "metadata": {},
   "outputs": [],
   "source": [
    "import os\n",
    "import sys\n",
    "module_path = os.path.abspath(os.path.join('..'))\n",
    "if module_path not in sys.path:\n",
    "    sys.path.append(module_path)\n",
    "\n",
    "from sklearn.model_selection import train_test_split\n",
    "\n",
    "import pandas as pd\n",
    "from pytorch_lightning import Trainer, seed_everything\n",
    "\n",
    "from src.dataset import MITDataModule\n",
    "from src.model import CNNResidual"
   ]
  },
  {
   "cell_type": "code",
   "execution_count": 2,
   "metadata": {},
   "outputs": [],
   "source": [
    "#dataset = \"ptbdb\"\n",
    "dataset = \"mitbih\"\n",
    "\n",
    "if(dataset == \"ptbdb\"):\n",
    "    nr_classes = 1\n",
    "    df_ptbdb_normal= pd.read_csv(\"../data/ptbdb_normal.csv\", header=None)\n",
    "    df_ptbdb_abnormal = pd.read_csv(\"../data/ptbdb_abnormal.csv\", header=None)\n",
    "    df = pd.concat([df_ptbdb_normal, df_ptbdb_abnormal])\n",
    "\n",
    "    df_train, df_test = train_test_split(df, test_size=0.2, random_state=1337, stratify=df[187])\n",
    "    df_train, df_test = df_train.reset_index(drop=True), df_test.reset_index(drop=True)\n",
    "else:\n",
    "    nr_classes = 5\n",
    "    df_train = pd.read_csv(\"../data/mitbih_train.csv\", header=None)\n",
    "    df_test = pd.read_csv(\"../data/mitbih_test.csv\", header=None)"
   ]
  },
  {
   "cell_type": "code",
   "execution_count": 3,
   "metadata": {},
   "outputs": [
    {
     "name": "stderr",
     "output_type": "stream",
     "text": [
      "Global seed set to 1234\n",
      "/home/julian/miniconda3/envs/ml4h/lib/python3.9/site-packages/torchmetrics/utilities/prints.py:36: UserWarning: Metric `AUROC` will save all targets and predictions in buffer. For large datasets this may lead to large memory footprint.\n",
      "  warnings.warn(*args, **kwargs)\n",
      "/home/julian/miniconda3/envs/ml4h/lib/python3.9/site-packages/torchmetrics/utilities/prints.py:36: UserWarning: Metric `PrecisionRecallCurve` will save all targets and predictions in buffer. For large datasets this may lead to large memory footprint.\n",
      "  warnings.warn(*args, **kwargs)\n",
      "/home/julian/miniconda3/envs/ml4h/lib/python3.9/site-packages/torchmetrics/utilities/prints.py:36: UserWarning: Metric `AUC` will save all targets and predictions in buffer. For large datasets this may lead to large memory footprint.\n",
      "  warnings.warn(*args, **kwargs)\n",
      "GPU available: False, used: False\n",
      "TPU available: False, using: 0 TPU cores\n",
      "IPU available: False, using: 0 IPUs\n",
      "\n",
      "   | Name      | Type                 | Params\n",
      "----------------------------------------------------\n",
      "0  | c1        | Conv1d               | 48    \n",
      "1  | c2        | Conv1d               | 615   \n",
      "2  | c3        | Conv1d               | 2.6 K \n",
      "3  | fc1       | Linear               | 113 K \n",
      "4  | fc2       | Linear               | 6.0 K \n",
      "5  | fc3       | Linear               | 33    \n",
      "6  | fc4       | Linear               | 8.1 K \n",
      "7  | maxP      | MaxPool1d            | 0     \n",
      "8  | dropout   | Dropout              | 0     \n",
      "9  | flatten   | Flatten              | 0     \n",
      "10 | flatten0  | Flatten              | 0     \n",
      "11 | test_acc  | Accuracy             | 0     \n",
      "12 | train_acc | Accuracy             | 0     \n",
      "13 | valid_acc | Accuracy             | 0     \n",
      "14 | test_f1   | F1Score              | 0     \n",
      "15 | train_f1  | F1Score              | 0     \n",
      "16 | valid_f1  | F1Score              | 0     \n",
      "17 | test_ROC  | AUROC                | 0     \n",
      "18 | test_PRC  | PrecisionRecallCurve | 0     \n",
      "19 | test_AUC  | AUC                  | 0     \n",
      "----------------------------------------------------\n",
      "131 K     Trainable params\n",
      "0         Non-trainable params\n",
      "131 K     Total params\n",
      "0.525     Total estimated model params size (MB)\n"
     ]
    },
    {
     "name": "stdout",
     "output_type": "stream",
     "text": [
      "                                                              "
     ]
    },
    {
     "name": "stderr",
     "output_type": "stream",
     "text": [
      "Global seed set to 1234\n"
     ]
    },
    {
     "name": "stdout",
     "output_type": "stream",
     "text": [
      "Epoch 24: 100%|██████████| 364/364 [00:06<00:00, 55.41it/s, loss=0.456, v_num=70]\n",
      "Validating: 100%|██████████| 73/73 [00:00<00:00, 85.94it/s] --------------------------------------------------------------------------------\n",
      "DATALOADER:0 VALIDATE RESULTS\n",
      "{'val_acc': 0.7221983671188354,\n",
      " 'val_acc_epoch': 0.7221983671188354,\n",
      " 'valid_loss': 0.4595416188240051}\n",
      "--------------------------------------------------------------------------------\n",
      "Validating: 100%|██████████| 73/73 [00:00<00:00, 86.74it/s]\n",
      "Testing: 100%|██████████| 91/91 [00:01<00:00, 98.60it/s]--------------------------------------------------------------------------------\n",
      "DATALOADER:0 TEST RESULTS\n",
      "{'test prc': 0.9728344678878784,\n",
      " 'test roc': 0.929253339767456,\n",
      " 'test_acc': 0.722088634967804,\n",
      " 'test_f1': 0.8366101980209351,\n",
      " 'test_loss': 0.4598807096481323}\n",
      "--------------------------------------------------------------------------------\n",
      "Testing: 100%|██████████| 91/91 [00:01<00:00, 83.15it/s]\n"
     ]
    },
    {
     "data": {
      "text/plain": [
       "[{'test_loss': 0.4598807096481323,\n",
       "  'test_f1': 0.8366101980209351,\n",
       "  'test_acc': 0.722088634967804,\n",
       "  'test roc': 0.929253339767456,\n",
       "  'test prc': 0.9728344678878784}]"
      ]
     },
     "execution_count": 3,
     "metadata": {},
     "output_type": "execute_result"
    }
   ],
   "source": [
    "seed_everything(1234)\n",
    "\n",
    "model = CNNResidual(nr_classes=nr_classes) # 1: Binary, 5: Non-Binary task\n",
    "trainer = Trainer(max_epochs = 25)\n",
    "\n",
    "mit = MITDataModule(df_train, df_test)\n",
    "trainer.fit(model, datamodule=mit)\n",
    "\n",
    "trainer.validate(model, datamodule=mit)\n",
    "\n",
    "trainer.test(model, datamodule=mit)"
   ]
  },
  {
   "cell_type": "code",
   "execution_count": null,
   "metadata": {},
   "outputs": [],
   "source": []
  }
 ],
 "metadata": {
  "interpreter": {
   "hash": "1e9f8f0b0b81bd34d7674065dba92302069c4c563a79c2d0b6b68454c07c7580"
  },
  "kernelspec": {
   "display_name": "Python 3.9.7 ('ml4h')",
   "language": "python",
   "name": "python3"
  },
  "language_info": {
   "codemirror_mode": {
    "name": "ipython",
    "version": 3
   },
   "file_extension": ".py",
   "mimetype": "text/x-python",
   "name": "python",
   "nbconvert_exporter": "python",
   "pygments_lexer": "ipython3",
   "version": "3.9.7"
  },
  "orig_nbformat": 4
 },
 "nbformat": 4,
 "nbformat_minor": 2
}
